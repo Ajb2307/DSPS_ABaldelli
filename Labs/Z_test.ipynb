{
  "nbformat": 4,
  "nbformat_minor": 0,
  "metadata": {
    "colab": {
      "provenance": [],
      "authorship_tag": "ABX9TyOBVlKh+oGSpoYpq23bFYS1",
      "include_colab_link": true
    },
    "kernelspec": {
      "name": "python3",
      "display_name": "Python 3"
    },
    "language_info": {
      "name": "python"
    }
  },
  "cells": [
    {
      "cell_type": "markdown",
      "metadata": {
        "id": "view-in-github",
        "colab_type": "text"
      },
      "source": [
        "<a href=\"https://colab.research.google.com/github/Ajb2307/DSPS_ABaldelli/blob/main/Labs/Z_test.ipynb\" target=\"_parent\"><img src=\"https://colab.research.google.com/assets/colab-badge.svg\" alt=\"Open In Colab\"/></a>"
      ]
    },
    {
      "cell_type": "code",
      "execution_count": 1,
      "metadata": {
        "id": "AE0uJc0Di0_n"
      },
      "outputs": [],
      "source": [
        "import pandas as pd\n",
        "import numpy as np\n",
        "import scipy.stats as stats\n",
        "import"
      ]
    },
    {
      "cell_type": "code",
      "source": [
        "link = 'https://raw.githubusercontent.com/fedhere/DSPS_FBianco/refs/heads/main/data/triptimes.csv'\n",
        "data = pd.read_csv(link, header= None)"
      ],
      "metadata": {
        "id": "hlRqsMa-i9AJ"
      },
      "execution_count": 34,
      "outputs": []
    },
    {
      "cell_type": "code",
      "source": [
        "mean = np.mean(data[0])\n",
        "std = np.std(data[0])\n",
        "\n",
        "std"
      ],
      "metadata": {
        "colab": {
          "base_uri": "https://localhost:8080/"
        },
        "id": "hWPMGXV1jJOs",
        "outputId": "66b4e39c-e929-4e26-e9a8-7a00da9a69a3"
      },
      "execution_count": 38,
      "outputs": [
        {
          "output_type": "execute_result",
          "data": {
            "text/plain": [
              "7.101504068193777"
            ]
          },
          "metadata": {},
          "execution_count": 38
        }
      ]
    },
    {
      "cell_type": "code",
      "source": [
        "s = std / np.sqrt(len(data))\n",
        "\n",
        "Z = (32.20 - mean) / s\n",
        "\n",
        "print(Z)\n"
      ],
      "metadata": {
        "colab": {
          "base_uri": "https://localhost:8080/"
        },
        "id": "2wNBUx1KjlOm",
        "outputId": "aaa94d35-22b5-4f43-cf42-d6a4fd615e09"
      },
      "execution_count": 39,
      "outputs": [
        {
          "output_type": "stream",
          "name": "stdout",
          "text": [
            "-3.1911010210494455\n"
          ]
        }
      ]
    },
    {
      "cell_type": "code",
      "source": [
        "# to have a 95% confidence it must have a |Z| ≤ 2\n",
        "\n",
        "abs(Z) <= 2"
      ],
      "metadata": {
        "colab": {
          "base_uri": "https://localhost:8080/"
        },
        "id": "8ClxFQcsjl1C",
        "outputId": "8f155650-7f5e-4e7e-f2b8-f83e86cc400a"
      },
      "execution_count": 40,
      "outputs": [
        {
          "output_type": "execute_result",
          "data": {
            "text/plain": [
              "np.False_"
            ]
          },
          "metadata": {},
          "execution_count": 40
        }
      ]
    },
    {
      "cell_type": "markdown",
      "source": [
        "False = reject the null hypothesis\n",
        "\n",
        "True = fail to reject the null hypothesis"
      ],
      "metadata": {
        "id": "Nm3g03kkme_V"
      }
    },
    {
      "cell_type": "code",
      "source": [],
      "metadata": {
        "id": "S6ApyAG7mlEH"
      },
      "execution_count": null,
      "outputs": []
    }
  ]
}